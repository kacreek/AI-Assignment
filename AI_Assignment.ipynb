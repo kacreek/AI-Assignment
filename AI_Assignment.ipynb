{
 "cells": [
  {
   "cell_type": "markdown",
   "id": "3fe898c9-76a1-4047-bb51-dbc03f766e53",
   "metadata": {},
   "source": [
    "I used ChatGPT-4o for this entire notebook\n",
    "\n",
    "**Prompt:**\n",
    "we will be using a credit card fraud dataset and the goal of the notebook to learn how to find business insights by exploring data, wrangling data, and  modeling data\n",
    "\n",
    "first we will need a markdown cell with a title, me listed as the author, MAT 311 as the class name, today's date for when it was updated, and a short paragraph welcoming us to the class and introducing the notebook and the goals of the notebook"
   ]
  },
  {
   "cell_type": "markdown",
   "id": "77189b69-64f4-41e5-884d-8b187cb00a5f",
   "metadata": {},
   "source": [
    "# First Day of Data Science with Python  \n",
    "**Author:** Katelyn Creek  \n",
    "**Class:** MAT 311  \n",
    "**Last Updated:** December 4, 2024  \n",
    "\n",
    "---\n",
    "\n",
    "### Welcome!  \n",
    "Welcome to this notebook for MAT 311. Today marks the beginning of our journey into data science, where we will use Python as our primary tool for analysis and discovery. The primary goals of this notebook are to:\n",
    "\n",
    "1. Explore the dataset to uncover key patterns and insights.  \n",
    "2. Wrangle the data to prepare it for analysis and modeling.  \n",
    "3. Build and evaluate models to detect fraudulent transactions.  \n",
    "\n",
    "By the end of this notebook, we aim to not only understand the technical aspects of data science but also learn how to apply these skills to solve real-world problems. Let's get started!\n"
   ]
  },
  {
   "cell_type": "markdown",
   "id": "f10ced19-4d6d-48af-8957-56f2654c6b07",
   "metadata": {},
   "source": [
    "**Prompt:**\n",
    "next we need a markdown cell about the context of our data. our data is from https://www.kaggle.com/datasets/dhanushnarayananr/credit-card-fraud/data. give a table with all the features of the data with a description of each feature. The features are  are distance_from_home, distance_from_last_transaction, ratio_to_median_purchase_price, repeat_retailer, used_chip, used_pin_number, online_order, fraud"
   ]
  },
  {
   "cell_type": "markdown",
   "id": "aa0082dc-684a-4682-8646-cf21b975d2a8",
   "metadata": {},
   "source": [
    "# Dataset Context: Credit Card Fraud Detection  \n",
    "\n",
    "### Overview  \n",
    "The dataset used in this notebook is sourced from [Kaggle's Credit Card Fraud Dataset](https://www.kaggle.com/datasets/dhanushnarayananr/credit-card-fraud/data). This dataset includes information about various transactions and associated features that can help in detecting fraudulent behavior. The goal is to use these features to classify transactions as fraudulent or legitimate.  \n",
    "\n",
    "### Features and Descriptions  \n",
    "\n",
    "| **Feature**                       | **Description**                                                                                   |\n",
    "|------------------------------------|---------------------------------------------------------------------------------------------------|\n",
    "| **distance_from_home**             | The distance between the transaction location and the cardholder's home location.                |\n",
    "| **distance_from_last_transaction** | The distance between the location of the current transaction and the previous transaction.       |\n",
    "| **ratio_to_median_purchase_price** | The ratio of the transaction amount to the median purchase price for the cardholder.             |\n",
    "| **repeat_retailer**                | Indicates whether the transaction was made at a retailer previously visited by the cardholder.   |\n",
    "| **used_chip**                      | Indicates whether a chip was used during the transaction (1 = Yes, 0 = No).                     |\n",
    "| **used_pin_number**                | Indicates whether a PIN number was used during the transaction (1 = Yes, 0 = No).               |\n",
    "| **online_order**                   | Indicates whether the transaction was made online (1 = Yes, 0 = No).                            |\n",
    "| **fraud**                          | Target variable indicating if a transaction is fraudulent (1 = Fraudulent, 0 = Legitimate).     |\n",
    "\n",
    "---\n",
    "\n",
    "This dataset provides a realistic context for understanding the challenges of fraud detection, such as imbalanced data and feature engineering. Let’s move forward to explore the data in detail!\n"
   ]
  },
  {
   "cell_type": "markdown",
   "id": "96274ea9-eabb-4a99-99dd-580ae3149f20",
   "metadata": {},
   "source": [
    "**Prompt:** \n",
    "our next section is about loading our libraries. give me a markdown cell with a title for this section"
   ]
  },
  {
   "cell_type": "markdown",
   "id": "5c9dfbbd-7c57-469e-8065-76e2cd8b2502",
   "metadata": {},
   "source": [
    "# Loading the Required Libraries  \n"
   ]
  },
  {
   "cell_type": "markdown",
   "id": "a56463b0-5a46-475a-a9cd-f1c39948fdd0",
   "metadata": {},
   "source": [
    "**Prompt:**\n",
    "give me python code that imports pandas, Seaborn, matplotlib.pyplot, plotly.express, train test split, standard scaler, knn classifier, confusion matrix, classification report, accuracy, precision, recall, and f1"
   ]
  },
  {
   "cell_type": "code",
   "execution_count": 1,
   "id": "b0990341-4750-4bf8-a13c-b6ea2865735f",
   "metadata": {},
   "outputs": [],
   "source": [
    "# Importing libraries for data manipulation and visualization\n",
    "import pandas as pd\n",
    "import seaborn as sns\n",
    "import matplotlib.pyplot as plt\n",
    "import plotly.express as px\n",
    "\n",
    "# Importing tools for data splitting and preprocessing\n",
    "from sklearn.model_selection import train_test_split\n",
    "from sklearn.preprocessing import StandardScaler\n",
    "\n",
    "# Importing machine learning model and evaluation metrics\n",
    "from sklearn.neighbors import KNeighborsClassifier\n",
    "from sklearn.metrics import confusion_matrix, classification_report, accuracy_score, precision_score, recall_score, f1_score\n"
   ]
  },
  {
   "cell_type": "markdown",
   "id": "3380e563-3698-45ce-890f-b43dfdc5dc52",
   "metadata": {},
   "source": [
    "**Prompt:** \n",
    "our next section is about loading the data. give me a markdown cell with a title for this section"
   ]
  },
  {
   "cell_type": "markdown",
   "id": "29d2ab15-ecf7-4913-aadf-83e2281bb67b",
   "metadata": {},
   "source": [
    "# Loading the Dataset  "
   ]
  },
  {
   "cell_type": "markdown",
   "id": "5453ee13-33de-4e02-8fd4-10bda4043e67",
   "metadata": {},
   "source": [
    "**Prompt:** \n",
    "give me python code that reads the file card_transdata.csv and displays the head of the dataframe"
   ]
  },
  {
   "cell_type": "code",
   "execution_count": 2,
   "id": "2a351005-bb12-4ff3-94b9-14a8affe4935",
   "metadata": {},
   "outputs": [
    {
     "data": {
      "text/html": [
       "<div>\n",
       "<style scoped>\n",
       "    .dataframe tbody tr th:only-of-type {\n",
       "        vertical-align: middle;\n",
       "    }\n",
       "\n",
       "    .dataframe tbody tr th {\n",
       "        vertical-align: top;\n",
       "    }\n",
       "\n",
       "    .dataframe thead th {\n",
       "        text-align: right;\n",
       "    }\n",
       "</style>\n",
       "<table border=\"1\" class=\"dataframe\">\n",
       "  <thead>\n",
       "    <tr style=\"text-align: right;\">\n",
       "      <th></th>\n",
       "      <th>distance_from_home</th>\n",
       "      <th>distance_from_last_transaction</th>\n",
       "      <th>ratio_to_median_purchase_price</th>\n",
       "      <th>repeat_retailer</th>\n",
       "      <th>used_chip</th>\n",
       "      <th>used_pin_number</th>\n",
       "      <th>online_order</th>\n",
       "      <th>fraud</th>\n",
       "    </tr>\n",
       "  </thead>\n",
       "  <tbody>\n",
       "    <tr>\n",
       "      <th>0</th>\n",
       "      <td>57.877857</td>\n",
       "      <td>0.311140</td>\n",
       "      <td>1.945940</td>\n",
       "      <td>1.0</td>\n",
       "      <td>1.0</td>\n",
       "      <td>0.0</td>\n",
       "      <td>0.0</td>\n",
       "      <td>0</td>\n",
       "    </tr>\n",
       "    <tr>\n",
       "      <th>1</th>\n",
       "      <td>10.829943</td>\n",
       "      <td>0.175592</td>\n",
       "      <td>1.294219</td>\n",
       "      <td>1.0</td>\n",
       "      <td>NaN</td>\n",
       "      <td>0.0</td>\n",
       "      <td>0.0</td>\n",
       "      <td>0</td>\n",
       "    </tr>\n",
       "    <tr>\n",
       "      <th>2</th>\n",
       "      <td>5.091079</td>\n",
       "      <td>NaN</td>\n",
       "      <td>0.427715</td>\n",
       "      <td>1.0</td>\n",
       "      <td>0.0</td>\n",
       "      <td>0.0</td>\n",
       "      <td>1.0</td>\n",
       "      <td>0</td>\n",
       "    </tr>\n",
       "    <tr>\n",
       "      <th>3</th>\n",
       "      <td>2.247564</td>\n",
       "      <td>5.600044</td>\n",
       "      <td>0.362663</td>\n",
       "      <td>1.0</td>\n",
       "      <td>1.0</td>\n",
       "      <td>0.0</td>\n",
       "      <td>1.0</td>\n",
       "      <td>0</td>\n",
       "    </tr>\n",
       "    <tr>\n",
       "      <th>4</th>\n",
       "      <td>44.190936</td>\n",
       "      <td>0.566486</td>\n",
       "      <td>2.222767</td>\n",
       "      <td>1.0</td>\n",
       "      <td>1.0</td>\n",
       "      <td>0.0</td>\n",
       "      <td>1.0</td>\n",
       "      <td>0</td>\n",
       "    </tr>\n",
       "  </tbody>\n",
       "</table>\n",
       "</div>"
      ],
      "text/plain": [
       "   distance_from_home  distance_from_last_transaction  \\\n",
       "0           57.877857                        0.311140   \n",
       "1           10.829943                        0.175592   \n",
       "2            5.091079                             NaN   \n",
       "3            2.247564                        5.600044   \n",
       "4           44.190936                        0.566486   \n",
       "\n",
       "   ratio_to_median_purchase_price  repeat_retailer  used_chip  \\\n",
       "0                        1.945940              1.0        1.0   \n",
       "1                        1.294219              1.0        NaN   \n",
       "2                        0.427715              1.0        0.0   \n",
       "3                        0.362663              1.0        1.0   \n",
       "4                        2.222767              1.0        1.0   \n",
       "\n",
       "   used_pin_number  online_order  fraud  \n",
       "0              0.0           0.0      0  \n",
       "1              0.0           0.0      0  \n",
       "2              0.0           1.0      0  \n",
       "3              0.0           1.0      0  \n",
       "4              0.0           1.0      0  "
      ]
     },
     "execution_count": 2,
     "metadata": {},
     "output_type": "execute_result"
    }
   ],
   "source": [
    "# Load the dataset and display the first few rows\n",
    "data = pd.read_csv('card_transdata.csv')\n",
    "data.head()"
   ]
  },
  {
   "cell_type": "markdown",
   "id": "99b2146a-1f9a-4200-8c39-6a22a7906ed3",
   "metadata": {},
   "source": [
    "**Prompt:**\n",
    "find the shape of the dataframe"
   ]
  },
  {
   "cell_type": "code",
   "execution_count": 3,
   "id": "fe06e6a0-7144-480f-94d4-83e60989ec4e",
   "metadata": {},
   "outputs": [
    {
     "data": {
      "text/plain": [
       "(999, 8)"
      ]
     },
     "execution_count": 3,
     "metadata": {},
     "output_type": "execute_result"
    }
   ],
   "source": [
    "# Display the shape of the dataframe\n",
    "data.shape"
   ]
  },
  {
   "cell_type": "markdown",
   "id": "1ec4fd70-2c15-4a7e-8913-e52b2edbbf0a",
   "metadata": {},
   "source": [
    "**Prompt:**\n",
    "get the info of the dataframe"
   ]
  },
  {
   "cell_type": "code",
   "execution_count": 4,
   "id": "6911dadb-5545-4ff5-9550-76c8a299aa9d",
   "metadata": {},
   "outputs": [
    {
     "name": "stdout",
     "output_type": "stream",
     "text": [
      "<class 'pandas.core.frame.DataFrame'>\n",
      "RangeIndex: 999 entries, 0 to 998\n",
      "Data columns (total 8 columns):\n",
      " #   Column                          Non-Null Count  Dtype  \n",
      "---  ------                          --------------  -----  \n",
      " 0   distance_from_home              999 non-null    float64\n",
      " 1   distance_from_last_transaction  996 non-null    float64\n",
      " 2   ratio_to_median_purchase_price  997 non-null    float64\n",
      " 3   repeat_retailer                 992 non-null    float64\n",
      " 4   used_chip                       995 non-null    float64\n",
      " 5   used_pin_number                 997 non-null    float64\n",
      " 6   online_order                    995 non-null    float64\n",
      " 7   fraud                           999 non-null    int64  \n",
      "dtypes: float64(7), int64(1)\n",
      "memory usage: 62.6 KB\n"
     ]
    }
   ],
   "source": [
    "# Display information about the dataframe\n",
    "data.info()"
   ]
  },
  {
   "cell_type": "markdown",
   "id": "7f07e632-dc3a-45f3-a40a-181fce7d37dc",
   "metadata": {},
   "source": [
    "**Prompt:**\n",
    "python code that describes the dataset"
   ]
  },
  {
   "cell_type": "code",
   "execution_count": 5,
   "id": "ea6392af-39c4-4e77-a5f4-c4e57702988a",
   "metadata": {},
   "outputs": [
    {
     "data": {
      "text/html": [
       "<div>\n",
       "<style scoped>\n",
       "    .dataframe tbody tr th:only-of-type {\n",
       "        vertical-align: middle;\n",
       "    }\n",
       "\n",
       "    .dataframe tbody tr th {\n",
       "        vertical-align: top;\n",
       "    }\n",
       "\n",
       "    .dataframe thead th {\n",
       "        text-align: right;\n",
       "    }\n",
       "</style>\n",
       "<table border=\"1\" class=\"dataframe\">\n",
       "  <thead>\n",
       "    <tr style=\"text-align: right;\">\n",
       "      <th></th>\n",
       "      <th>distance_from_home</th>\n",
       "      <th>distance_from_last_transaction</th>\n",
       "      <th>ratio_to_median_purchase_price</th>\n",
       "      <th>repeat_retailer</th>\n",
       "      <th>used_chip</th>\n",
       "      <th>used_pin_number</th>\n",
       "      <th>online_order</th>\n",
       "      <th>fraud</th>\n",
       "    </tr>\n",
       "  </thead>\n",
       "  <tbody>\n",
       "    <tr>\n",
       "      <th>count</th>\n",
       "      <td>999.000000</td>\n",
       "      <td>996.000000</td>\n",
       "      <td>997.000000</td>\n",
       "      <td>992.000000</td>\n",
       "      <td>995.000000</td>\n",
       "      <td>997.000000</td>\n",
       "      <td>995.000000</td>\n",
       "      <td>999.000000</td>\n",
       "    </tr>\n",
       "    <tr>\n",
       "      <th>mean</th>\n",
       "      <td>26.876607</td>\n",
       "      <td>5.437319</td>\n",
       "      <td>1.655069</td>\n",
       "      <td>0.892137</td>\n",
       "      <td>0.313568</td>\n",
       "      <td>0.117352</td>\n",
       "      <td>0.673367</td>\n",
       "      <td>0.079079</td>\n",
       "    </tr>\n",
       "    <tr>\n",
       "      <th>std</th>\n",
       "      <td>63.899697</td>\n",
       "      <td>35.668094</td>\n",
       "      <td>2.351386</td>\n",
       "      <td>0.310364</td>\n",
       "      <td>0.464176</td>\n",
       "      <td>0.322001</td>\n",
       "      <td>0.469218</td>\n",
       "      <td>0.269997</td>\n",
       "    </tr>\n",
       "    <tr>\n",
       "      <th>min</th>\n",
       "      <td>0.104184</td>\n",
       "      <td>0.001448</td>\n",
       "      <td>0.016933</td>\n",
       "      <td>0.000000</td>\n",
       "      <td>0.000000</td>\n",
       "      <td>0.000000</td>\n",
       "      <td>0.000000</td>\n",
       "      <td>0.000000</td>\n",
       "    </tr>\n",
       "    <tr>\n",
       "      <th>25%</th>\n",
       "      <td>3.990543</td>\n",
       "      <td>0.306441</td>\n",
       "      <td>0.468123</td>\n",
       "      <td>1.000000</td>\n",
       "      <td>0.000000</td>\n",
       "      <td>0.000000</td>\n",
       "      <td>0.000000</td>\n",
       "      <td>0.000000</td>\n",
       "    </tr>\n",
       "    <tr>\n",
       "      <th>50%</th>\n",
       "      <td>10.340321</td>\n",
       "      <td>0.958539</td>\n",
       "      <td>0.955504</td>\n",
       "      <td>1.000000</td>\n",
       "      <td>0.000000</td>\n",
       "      <td>0.000000</td>\n",
       "      <td>1.000000</td>\n",
       "      <td>0.000000</td>\n",
       "    </tr>\n",
       "    <tr>\n",
       "      <th>75%</th>\n",
       "      <td>25.393952</td>\n",
       "      <td>3.137259</td>\n",
       "      <td>1.922025</td>\n",
       "      <td>1.000000</td>\n",
       "      <td>1.000000</td>\n",
       "      <td>0.000000</td>\n",
       "      <td>1.000000</td>\n",
       "      <td>0.000000</td>\n",
       "    </tr>\n",
       "    <tr>\n",
       "      <th>max</th>\n",
       "      <td>965.910612</td>\n",
       "      <td>990.070315</td>\n",
       "      <td>36.074366</td>\n",
       "      <td>1.000000</td>\n",
       "      <td>1.000000</td>\n",
       "      <td>1.000000</td>\n",
       "      <td>1.000000</td>\n",
       "      <td>1.000000</td>\n",
       "    </tr>\n",
       "  </tbody>\n",
       "</table>\n",
       "</div>"
      ],
      "text/plain": [
       "       distance_from_home  distance_from_last_transaction  \\\n",
       "count          999.000000                      996.000000   \n",
       "mean            26.876607                        5.437319   \n",
       "std             63.899697                       35.668094   \n",
       "min              0.104184                        0.001448   \n",
       "25%              3.990543                        0.306441   \n",
       "50%             10.340321                        0.958539   \n",
       "75%             25.393952                        3.137259   \n",
       "max            965.910612                      990.070315   \n",
       "\n",
       "       ratio_to_median_purchase_price  repeat_retailer   used_chip  \\\n",
       "count                      997.000000       992.000000  995.000000   \n",
       "mean                         1.655069         0.892137    0.313568   \n",
       "std                          2.351386         0.310364    0.464176   \n",
       "min                          0.016933         0.000000    0.000000   \n",
       "25%                          0.468123         1.000000    0.000000   \n",
       "50%                          0.955504         1.000000    0.000000   \n",
       "75%                          1.922025         1.000000    1.000000   \n",
       "max                         36.074366         1.000000    1.000000   \n",
       "\n",
       "       used_pin_number  online_order       fraud  \n",
       "count       997.000000    995.000000  999.000000  \n",
       "mean          0.117352      0.673367    0.079079  \n",
       "std           0.322001      0.469218    0.269997  \n",
       "min           0.000000      0.000000    0.000000  \n",
       "25%           0.000000      0.000000    0.000000  \n",
       "50%           0.000000      1.000000    0.000000  \n",
       "75%           0.000000      1.000000    0.000000  \n",
       "max           1.000000      1.000000    1.000000  "
      ]
     },
     "execution_count": 5,
     "metadata": {},
     "output_type": "execute_result"
    }
   ],
   "source": [
    "# Display descriptive statistics of the dataset\n",
    "data.describe()"
   ]
  },
  {
   "cell_type": "markdown",
   "id": "8937458e-edff-4dd2-90d8-63e5d9279d88",
   "metadata": {},
   "source": [
    "**Prompt:**\n",
    "our next section is wrangling the data"
   ]
  },
  {
   "cell_type": "markdown",
   "id": "06d41784-1da9-4967-808b-2111406f99f0",
   "metadata": {},
   "source": [
    "# Wrangling the Data  "
   ]
  },
  {
   "cell_type": "markdown",
   "id": "34133cb1-77ee-4c42-b4b8-8c9221cb5bd2",
   "metadata": {},
   "source": [
    "**Prompt:**\n",
    "find the null values in the dataframe"
   ]
  },
  {
   "cell_type": "code",
   "execution_count": 6,
   "id": "f25f8af4-9a57-4e3b-b711-5716808a9298",
   "metadata": {},
   "outputs": [
    {
     "data": {
      "text/plain": [
       "distance_from_home                0\n",
       "distance_from_last_transaction    3\n",
       "ratio_to_median_purchase_price    2\n",
       "repeat_retailer                   7\n",
       "used_chip                         4\n",
       "used_pin_number                   2\n",
       "online_order                      4\n",
       "fraud                             0\n",
       "dtype: int64"
      ]
     },
     "execution_count": 6,
     "metadata": {},
     "output_type": "execute_result"
    }
   ],
   "source": [
    "# Check for null values in the dataframe\n",
    "data.isnull().sum()"
   ]
  },
  {
   "cell_type": "markdown",
   "id": "8841cb37-5835-4b4f-9a98-e68b4af09817",
   "metadata": {},
   "source": [
    "**Prompt:**\n",
    "write a couple sentences about dropping the missing values because there are not that many rows with missing values"
   ]
  },
  {
   "cell_type": "markdown",
   "id": "b7ae4bcd-e9cb-423b-a3e5-14cc3c39992a",
   "metadata": {},
   "source": [
    "Since the dataset has only a few rows with missing values, we can safely drop these rows without significantly affecting the analysis. This approach ensures that the remaining data is complete and avoids introducing potential biases from imputation methods."
   ]
  },
  {
   "cell_type": "markdown",
   "id": "81916a89-b933-4f67-ac21-edaed5bfcd27",
   "metadata": {},
   "source": [
    "**Prompt:**\n",
    "drop the null values and print the shape of the new dataframe"
   ]
  },
  {
   "cell_type": "code",
   "execution_count": 7,
   "id": "670ac574-5896-4481-bc08-96cc4a3d76f2",
   "metadata": {},
   "outputs": [
    {
     "data": {
      "text/plain": [
       "(977, 8)"
      ]
     },
     "execution_count": 7,
     "metadata": {},
     "output_type": "execute_result"
    }
   ],
   "source": [
    "# Drop rows with null values\n",
    "data_cleaned = data.dropna()\n",
    "\n",
    "# Print the shape of the new dataframe\n",
    "data_cleaned.shape"
   ]
  },
  {
   "cell_type": "markdown",
   "id": "a2b1796d-9c6a-41c8-9072-cacd0fce7d95",
   "metadata": {},
   "source": [
    "**Prompt:**\n",
    "print the head of the cleaned datafreame"
   ]
  },
  {
   "cell_type": "code",
   "execution_count": 8,
   "id": "db7635fd-418d-4352-929b-9b3d706b3584",
   "metadata": {},
   "outputs": [
    {
     "data": {
      "text/html": [
       "<div>\n",
       "<style scoped>\n",
       "    .dataframe tbody tr th:only-of-type {\n",
       "        vertical-align: middle;\n",
       "    }\n",
       "\n",
       "    .dataframe tbody tr th {\n",
       "        vertical-align: top;\n",
       "    }\n",
       "\n",
       "    .dataframe thead th {\n",
       "        text-align: right;\n",
       "    }\n",
       "</style>\n",
       "<table border=\"1\" class=\"dataframe\">\n",
       "  <thead>\n",
       "    <tr style=\"text-align: right;\">\n",
       "      <th></th>\n",
       "      <th>distance_from_home</th>\n",
       "      <th>distance_from_last_transaction</th>\n",
       "      <th>ratio_to_median_purchase_price</th>\n",
       "      <th>repeat_retailer</th>\n",
       "      <th>used_chip</th>\n",
       "      <th>used_pin_number</th>\n",
       "      <th>online_order</th>\n",
       "      <th>fraud</th>\n",
       "    </tr>\n",
       "  </thead>\n",
       "  <tbody>\n",
       "    <tr>\n",
       "      <th>0</th>\n",
       "      <td>57.877857</td>\n",
       "      <td>0.311140</td>\n",
       "      <td>1.945940</td>\n",
       "      <td>1.0</td>\n",
       "      <td>1.0</td>\n",
       "      <td>0.0</td>\n",
       "      <td>0.0</td>\n",
       "      <td>0</td>\n",
       "    </tr>\n",
       "    <tr>\n",
       "      <th>3</th>\n",
       "      <td>2.247564</td>\n",
       "      <td>5.600044</td>\n",
       "      <td>0.362663</td>\n",
       "      <td>1.0</td>\n",
       "      <td>1.0</td>\n",
       "      <td>0.0</td>\n",
       "      <td>1.0</td>\n",
       "      <td>0</td>\n",
       "    </tr>\n",
       "    <tr>\n",
       "      <th>4</th>\n",
       "      <td>44.190936</td>\n",
       "      <td>0.566486</td>\n",
       "      <td>2.222767</td>\n",
       "      <td>1.0</td>\n",
       "      <td>1.0</td>\n",
       "      <td>0.0</td>\n",
       "      <td>1.0</td>\n",
       "      <td>0</td>\n",
       "    </tr>\n",
       "    <tr>\n",
       "      <th>5</th>\n",
       "      <td>5.586408</td>\n",
       "      <td>13.261073</td>\n",
       "      <td>0.064768</td>\n",
       "      <td>1.0</td>\n",
       "      <td>0.0</td>\n",
       "      <td>0.0</td>\n",
       "      <td>0.0</td>\n",
       "      <td>0</td>\n",
       "    </tr>\n",
       "    <tr>\n",
       "      <th>6</th>\n",
       "      <td>3.724019</td>\n",
       "      <td>0.956838</td>\n",
       "      <td>0.278465</td>\n",
       "      <td>1.0</td>\n",
       "      <td>0.0</td>\n",
       "      <td>0.0</td>\n",
       "      <td>1.0</td>\n",
       "      <td>0</td>\n",
       "    </tr>\n",
       "  </tbody>\n",
       "</table>\n",
       "</div>"
      ],
      "text/plain": [
       "   distance_from_home  distance_from_last_transaction  \\\n",
       "0           57.877857                        0.311140   \n",
       "3            2.247564                        5.600044   \n",
       "4           44.190936                        0.566486   \n",
       "5            5.586408                       13.261073   \n",
       "6            3.724019                        0.956838   \n",
       "\n",
       "   ratio_to_median_purchase_price  repeat_retailer  used_chip  \\\n",
       "0                        1.945940              1.0        1.0   \n",
       "3                        0.362663              1.0        1.0   \n",
       "4                        2.222767              1.0        1.0   \n",
       "5                        0.064768              1.0        0.0   \n",
       "6                        0.278465              1.0        0.0   \n",
       "\n",
       "   used_pin_number  online_order  fraud  \n",
       "0              0.0           0.0      0  \n",
       "3              0.0           1.0      0  \n",
       "4              0.0           1.0      0  \n",
       "5              0.0           0.0      0  \n",
       "6              0.0           1.0      0  "
      ]
     },
     "execution_count": 8,
     "metadata": {},
     "output_type": "execute_result"
    }
   ],
   "source": [
    "# Display the first few rows of the cleaned dataframe\n",
    "data_cleaned.head()"
   ]
  },
  {
   "cell_type": "markdown",
   "id": "45f4d10d-4d85-4e18-895a-d9441b1bff5b",
   "metadata": {},
   "source": [
    "**Prompt:**\n",
    "the next section is visualizing the data"
   ]
  },
  {
   "cell_type": "markdown",
   "id": "2c58ad44-179d-482d-a859-45e42d9bb814",
   "metadata": {},
   "source": [
    "# Visualizing the Data  "
   ]
  },
  {
   "cell_type": "markdown",
   "id": "e7042467-82f0-42d3-8548-66784069f2de",
   "metadata": {},
   "source": [
    "**Prompt:**\n",
    "create a count plot of fraud with a title"
   ]
  },
  {
   "cell_type": "code",
   "execution_count": 9,
   "id": "199ec882-a1ac-4b5c-8f75-a8c03caf30c0",
   "metadata": {},
   "outputs": [
    {
     "data": {
      "image/png": "[encoded data removed]",
      "text/plain": [
       "<Figure size 432x288 with 1 Axes>"
      ]
     },
     "metadata": {
      "needs_background": "light"
     },
     "output_type": "display_data"
    }
   ],
   "source": [
    "# Create a count plot for the 'fraud' column\n",
    "sns.countplot(x='fraud', data=data_cleaned)\n",
    "\n",
    "# Adding a title to the plot\n",
    "plt.title('Distribution of Fraudulent vs. Non-Fraudulent Transactions')\n",
    "\n",
    "# Display the plot\n",
    "plt.show()\n"
   ]
  },
  {
   "cell_type": "markdown",
   "id": "f8595175-00c8-4689-8868-d5801dbe2864",
   "metadata": {},
   "source": [
    "**Prompt:**\n",
    "create a count plot of used_pin_number with a title"
   ]
  },
  {
   "cell_type": "code",
   "execution_count": 10,
   "id": "3cd37677-0668-4a87-9ae1-8a596b289a2f",
   "metadata": {},
   "outputs": [
    {
     "data": {
      "image/png": "[encoded data removed]",
      "text/plain": [
       "<Figure size 432x288 with 1 Axes>"
      ]
     },
     "metadata": {
      "needs_background": "light"
     },
     "output_type": "display_data"
    }
   ],
   "source": [
    "# Create a count plot for the 'used_pin_number' column\n",
    "sns.countplot(x='used_pin_number', data=data_cleaned)\n",
    "\n",
    "# Adding a title to the plot\n",
    "plt.title('Distribution of Transactions Using PIN Numbers')\n",
    "\n",
    "# Display the plot\n",
    "plt.show()"
   ]
  },
  {
   "cell_type": "markdown",
   "id": "09b8f4aa-4c7e-4927-9919-5acf0c99a9b9",
   "metadata": {},
   "source": [
    "**Prompt:**\n",
    "create a count plot of repeat_retailer with a title"
   ]
  },
  {
   "cell_type": "code",
   "execution_count": 11,
   "id": "5e650415-9d4e-4039-a992-d868752b62ab",
   "metadata": {},
   "outputs": [
    {
     "data": {
      "image/png": "[encoded data removed]",
      "text/plain": [
       "<Figure size 432x288 with 1 Axes>"
      ]
     },
     "metadata": {
      "needs_background": "light"
     },
     "output_type": "display_data"
    }
   ],
   "source": [
    "# Create a count plot for the 'repeat_retailer' column\n",
    "sns.countplot(x='repeat_retailer', data=data_cleaned)\n",
    "\n",
    "# Adding a title to the plot\n",
    "plt.title('Distribution of Repeat Retailer Transactions')\n",
    "\n",
    "# Display the plot\n",
    "plt.show()"
   ]
  },
  {
   "cell_type": "markdown",
   "id": "082ce202-1266-4309-966c-163339db8985",
   "metadata": {},
   "source": [
    "**Prompt:**\n",
    "create a count plot of used_chip with a title"
   ]
  },
  {
   "cell_type": "code",
   "execution_count": 12,
   "id": "eff0439f-4b64-43d1-bd5b-ec294056690f",
   "metadata": {},
   "outputs": [
    {
     "data": {
      "image/png": "[encoded data removed]",
      "text/plain": [
       "<Figure size 432x288 with 1 Axes>"
      ]
     },
     "metadata": {
      "needs_background": "light"
     },
     "output_type": "display_data"
    }
   ],
   "source": [
    "# Create a count plot for the 'used_chip' column\n",
    "sns.countplot(x='used_chip', data=data_cleaned)\n",
    "\n",
    "# Adding a title to the plot\n",
    "plt.title('Distribution of Transactions Using Chip')\n",
    "\n",
    "# Display the plot\n",
    "plt.show()"
   ]
  },
  {
   "cell_type": "markdown",
   "id": "a03fe976-6eab-4c65-8a17-b00eb2659356",
   "metadata": {},
   "source": [
    "**Prompt:**\n",
    "make a count plot of online_order"
   ]
  },
  {
   "cell_type": "code",
   "execution_count": 13,
   "id": "5fc538a2-17fa-4ea5-af18-4c45afb5a355",
   "metadata": {},
   "outputs": [
    {
     "data": {
      "image/png": "[encoded data removed]",
      "text/plain": [
       "<Figure size 432x288 with 1 Axes>"
      ]
     },
     "metadata": {
      "needs_background": "light"
     },
     "output_type": "display_data"
    }
   ],
   "source": [
    "# Create a count plot for the 'online_order' column\n",
    "sns.countplot(x='online_order', data=data_cleaned)\n",
    "\n",
    "# Adding a title to the plot\n",
    "plt.title('Distribution of Online vs. In-Store Transactions')\n",
    "\n",
    "# Display the plot\n",
    "plt.show()"
   ]
  },
  {
   "cell_type": "markdown",
   "id": "d143393a-4bd8-4e59-9988-057b5b068d07",
   "metadata": {},
   "source": [
    "**Prompt:**\n",
    "make a histogram of distance_from_last_transaction"
   ]
  },
  {
   "cell_type": "code",
   "execution_count": 14,
   "id": "644e1a5d-d9f9-4bdf-ab83-1d3129bcfcbb",
   "metadata": {},
   "outputs": [
    {
     "data": {
      "image/png": "[encoded data removed]",
      "text/plain": [
       "<Figure size 720x432 with 1 Axes>"
      ]
     },
     "metadata": {
      "needs_background": "light"
     },
     "output_type": "display_data"
    }
   ],
   "source": [
    "# Create a histogram for the 'distance_from_last_transaction' column\n",
    "plt.figure(figsize=(10, 6))\n",
    "sns.histplot(data_cleaned['distance_from_last_transaction'], bins=30)\n",
    "\n",
    "# Adding a title to the plot\n",
    "plt.title('Distribution of Distance from Last Transaction')\n",
    "\n",
    "# Display the plot\n",
    "plt.show()"
   ]
  },
  {
   "cell_type": "markdown",
   "id": "0b520eae-4313-4a20-9a71-0773d737c260",
   "metadata": {},
   "source": [
    "**Prompt:**\n",
    "make a histogram of ratio_to_median_purchase_price"
   ]
  },
  {
   "cell_type": "code",
   "execution_count": 15,
   "id": "9ac49497-a192-4701-8fb8-645844147a46",
   "metadata": {},
   "outputs": [
    {
     "data": {
      "image/png": "[encoded data removed]",
      "text/plain": [
       "<Figure size 720x432 with 1 Axes>"
      ]
     },
     "metadata": {
      "needs_background": "light"
     },
     "output_type": "display_data"
    }
   ],
   "source": [
    "# Create a histogram for the 'ratio_to_median_purchase_price' column\n",
    "plt.figure(figsize=(10, 6))\n",
    "sns.histplot(data_cleaned['ratio_to_median_purchase_price'], bins=30)\n",
    "\n",
    "# Adding a title to the plot\n",
    "plt.title('Distribution of Ratio to Median Purchase Price')\n",
    "\n",
    "# Display the plot\n",
    "plt.show()"
   ]
  },
  {
   "cell_type": "markdown",
   "id": "58de7ac6-fa59-4a59-b1c1-bca24404f261",
   "metadata": {},
   "source": [
    "**Prompt:**\n",
    "make a histogram of distance_from_home"
   ]
  },
  {
   "cell_type": "code",
   "execution_count": 16,
   "id": "b248cbf2-3202-4209-a35a-ba50fed5068c",
   "metadata": {},
   "outputs": [
    {
     "data": {
      "image/png": "[encoded data removed]",
      "text/plain": [
       "<Figure size 720x432 with 1 Axes>"
      ]
     },
     "metadata": {
      "needs_background": "light"
     },
     "output_type": "display_data"
    }
   ],
   "source": [
    "# Create a histogram for the 'distance_from_home' column\n",
    "plt.figure(figsize=(10, 6))\n",
    "sns.histplot(data_cleaned['distance_from_home'], bins=30)\n",
    "\n",
    "# Adding a title to the plot\n",
    "plt.title('Distribution of Distance from Home')\n",
    "\n",
    "# Display the plot\n",
    "plt.show()"
   ]
  },
  {
   "cell_type": "markdown",
   "id": "1bec9edd-9750-4104-a31d-72a5ca0d3897",
   "metadata": {},
   "source": [
    "**Prompt:**\n",
    "the next section is about better visualizations"
   ]
  },
  {
   "cell_type": "markdown",
   "id": "352d6362-453c-43f4-90a3-c615f9077811",
   "metadata": {},
   "source": [
    "# Better Visualizations  "
   ]
  },
  {
   "cell_type": "markdown",
   "id": "20ea57f9-41c0-483b-b231-608f26357fb4",
   "metadata": {},
   "source": [
    "**Prompt:**\n",
    "write a sentence about wanting to look at fraudulent activity with each variable"
   ]
  },
  {
   "cell_type": "markdown",
   "id": "3b222fd0-2e61-412c-88c8-b7ca117b450b",
   "metadata": {},
   "source": [
    "In this section, we aim to explore how each variable relates to fraudulent activity by visualizing the distribution of features specifically for fraudulent and non-fraudulent transactions."
   ]
  },
  {
   "cell_type": "markdown",
   "id": "f4064be4-1b6c-4ddf-b268-9bab759e2247",
   "metadata": {},
   "source": [
    "**Prompt:**\n",
    "create a count plot of used_pin_number colored green and red for fraud that has a title, axes labels, and a legend"
   ]
  },
  {
   "cell_type": "code",
   "execution_count": 17,
   "id": "d8b1c102-61e3-4d76-958a-29340b721e7c",
   "metadata": {},
   "outputs": [
    {
     "data": {
      "image/png": "[encoded data removed]",
      "text/plain": [
       "<Figure size 576x432 with 1 Axes>"
      ]
     },
     "metadata": {
      "needs_background": "light"
     },
     "output_type": "display_data"
    }
   ],
   "source": [
    "# Create a count plot for the 'used_pin_number' column, colored by 'fraud'\n",
    "plt.figure(figsize=(8, 6))\n",
    "sns.countplot(x='used_pin_number', hue='fraud', data=data_cleaned, palette={0: 'green', 1: 'red'})\n",
    "\n",
    "# Adding a title and labels\n",
    "plt.title('Distribution of Transactions Using PIN Number by Fraud Status')\n",
    "plt.xlabel('Used PIN Number (0 = No, 1 = Yes)')\n",
    "plt.ylabel('Count')\n",
    "\n",
    "# Adding a legend\n",
    "plt.legend(title='Fraud', labels=['Non-Fraudulent', 'Fraudulent'])\n",
    "\n",
    "# Display the plot\n",
    "plt.show()"
   ]
  },
  {
   "cell_type": "markdown",
   "id": "3cd297c7-166f-455a-b739-f3f6442bb783",
   "metadata": {},
   "source": [
    "**Prompt:**\n",
    "create a percentage chart of used_pin_number colored green and red for fraud that has a title, axes labels, and a legend"
   ]
  },
  {
   "cell_type": "code",
   "execution_count": 18,
   "id": "26896eb3-1e06-47c7-b692-8eb54e424d75",
   "metadata": {},
   "outputs": [
    {
     "data": {
      "image/png": "[encoded data removed]",
      "text/plain": [
       "<Figure size 576x432 with 1 Axes>"
      ]
     },
     "metadata": {
      "needs_background": "light"
     },
     "output_type": "display_data"
    }
   ],
   "source": [
    "# Calculate the percentage distribution for each fraud status within 'used_pin_number'\n",
    "counts = data_cleaned.groupby(['used_pin_number', 'fraud']).size().unstack()\n",
    "percentages = counts.div(counts.sum(axis=1), axis=0) * 100\n",
    "\n",
    "# Plot the percentage stacked bar chart\n",
    "percentages.plot(kind='bar', stacked=True, color=['green', 'red'], figsize=(8, 6))\n",
    "\n",
    "# Adding a title and labels\n",
    "plt.title('Percentage Chart of Transactions Using PIN Number by Fraud Status')\n",
    "plt.xlabel('Used PIN Number (0 = No, 1 = Yes)')\n",
    "plt.ylabel('Percentage')\n",
    "\n",
    "# Adding a legend\n",
    "plt.legend(title='Fraud', labels=['Non-Fraudulent', 'Fraudulent'])\n",
    "\n",
    "# Display the plot\n",
    "plt.show()"
   ]
  },
  {
   "cell_type": "markdown",
   "id": "84ff2266-db25-4056-b6fc-d297bb66bb8e",
   "metadata": {},
   "source": [
    "**Prompt:**\n",
    "create a count plot and a percentage plot of repeat_retailer colored green and red for fraud that has a title, axes labels, and a legend"
   ]
  },
  {
   "cell_type": "code",
   "execution_count": 19,
   "id": "b552739d-ee5c-48f9-93a7-e443c1a80aad",
   "metadata": {},
   "outputs": [
    {
     "data": {
      "image/png": "[encoded data removed]",
      "text/plain": [
       "<Figure size 576x432 with 1 Axes>"
      ]
     },
     "metadata": {
      "needs_background": "light"
     },
     "output_type": "display_data"
    },
    {
     "data": {
      "image/png": "[encoded data removed]",
      "text/plain": [
       "<Figure size 576x432 with 1 Axes>"
      ]
     },
     "metadata": {
      "needs_background": "light"
     },
     "output_type": "display_data"
    }
   ],
   "source": [
    "# Count plot for 'repeat_retailer' with fraud status\n",
    "plt.figure(figsize=(8, 6))\n",
    "sns.countplot(x='repeat_retailer', hue='fraud', data=data_cleaned, palette={0: 'green', 1: 'red'})\n",
    "\n",
    "# Adding title and labels\n",
    "plt.title('Count Plot of Repeat Retailer Transactions by Fraud Status')\n",
    "plt.xlabel('Repeat Retailer (0 = No, 1 = Yes)')\n",
    "plt.ylabel('Count')\n",
    "\n",
    "# Adding a legend\n",
    "plt.legend(title='Fraud', labels=['Non-Fraudulent', 'Fraudulent'])\n",
    "\n",
    "# Display the plot\n",
    "plt.show()\n",
    "\n",
    "# Calculate the percentage distribution for each fraud status within 'repeat_retailer'\n",
    "counts = data_cleaned.groupby(['repeat_retailer', 'fraud']).size().unstack()\n",
    "percentages = counts.div(counts.sum(axis=1), axis=0) * 100\n",
    "\n",
    "# Plot the percentage stacked bar chart\n",
    "percentages.plot(kind='bar', stacked=True, color=['green', 'red'], figsize=(8, 6))\n",
    "\n",
    "# Adding title and labels\n",
    "plt.title('Percentage Chart of Repeat Retailer Transactions by Fraud Status')\n",
    "plt.xlabel('Repeat Retailer (0 = No, 1 = Yes)')\n",
    "plt.ylabel('Percentage')\n",
    "\n",
    "# Adding a legend\n",
    "plt.legend(title='Fraud', labels=['Non-Fraudulent', 'Fraudulent'])\n",
    "\n",
    "# Display the plot\n",
    "plt.show()"
   ]
  },
  {
   "cell_type": "markdown",
   "id": "677bae31-82ce-4166-8187-08b48a360f46",
   "metadata": {},
   "source": [
    "**Prompt:**\n",
    "create a count plot and a percentage plot of used_chip colored green and red for fraud that has a title, axes labels, and a legend"
   ]
  },
  {
   "cell_type": "code",
   "execution_count": 20,
   "id": "3f04424f-65d8-497c-8c18-7f510b49c931",
   "metadata": {},
   "outputs": [
    {
     "data": {
      "image/png": "[encoded data removed]",
      "text/plain": [
       "<Figure size 576x432 with 1 Axes>"
      ]
     },
     "metadata": {
      "needs_background": "light"
     },
     "output_type": "display_data"
    },
    {
     "data": {
      "image/png": "[encoded data removed]",
      "text/plain": [
       "<Figure size 576x432 with 1 Axes>"
      ]
     },
     "metadata": {
      "needs_background": "light"
     },
     "output_type": "display_data"
    }
   ],
   "source": [
    "# Count plot for 'used_chip' with fraud status\n",
    "plt.figure(figsize=(8, 6))\n",
    "sns.countplot(x='used_chip', hue='fraud', data=data_cleaned, palette={0: 'green', 1: 'red'})\n",
    "\n",
    "# Adding title and labels\n",
    "plt.title('Count Plot of Chip Usage Transactions by Fraud Status')\n",
    "plt.xlabel('Used Chip (0 = No, 1 = Yes)')\n",
    "plt.ylabel('Count')\n",
    "\n",
    "# Adding a legend\n",
    "plt.legend(title='Fraud', labels=['Non-Fraudulent', 'Fraudulent'])\n",
    "\n",
    "# Display the plot\n",
    "plt.show()\n",
    "\n",
    "# Calculate the percentage distribution for each fraud status within 'used_chip'\n",
    "counts = data_cleaned.groupby(['used_chip', 'fraud']).size().unstack()\n",
    "percentages = counts.div(counts.sum(axis=1), axis=0) * 100\n",
    "\n",
    "# Plot the percentage stacked bar chart\n",
    "percentages.plot(kind='bar', stacked=True, color=['green', 'red'], figsize=(8, 6))\n",
    "\n",
    "# Adding title and labels\n",
    "plt.title('Percentage Chart of Chip Usage Transactions by Fraud Status')\n",
    "plt.xlabel('Used Chip (0 = No, 1 = Yes)')\n",
    "plt.ylabel('Percentage')\n",
    "\n",
    "# Adding a legend\n",
    "plt.legend(title='Fraud', labels=['Non-Fraudulent', 'Fraudulent'])\n",
    "\n",
    "# Display the plot\n",
    "plt.show()\n"
   ]
  },
  {
   "cell_type": "markdown",
   "id": "77a2505c-9671-4904-98ab-8c1d4ae0cb58",
   "metadata": {},
   "source": [
    "**Prompt:**\n",
    "create a count plot and a percentage plot of online_order colored green and red for fraud that has a title, axes labels, and a legend"
   ]
  },
  {
   "cell_type": "code",
   "execution_count": 21,
   "id": "4e8380bc-beae-45d1-a499-c4e91a15764f",
   "metadata": {},
   "outputs": [
    {
     "data": {
      "image/png": "[encoded data removed]",
      "text/plain": [
       "<Figure size 576x432 with 1 Axes>"
      ]
     },
     "metadata": {
      "needs_background": "light"
     },
     "output_type": "display_data"
    },
    {
     "data": {
      "image/png": "[encoded data removed]",
      "text/plain": [
       "<Figure size 576x432 with 1 Axes>"
      ]
     },
     "metadata": {
      "needs_background": "light"
     },
     "output_type": "display_data"
    }
   ],
   "source": [
    "# Count plot for 'online_order' with fraud status\n",
    "plt.figure(figsize=(8, 6))\n",
    "sns.countplot(x='online_order', hue='fraud', data=data_cleaned, palette={0: 'green', 1: 'red'})\n",
    "\n",
    "# Adding title and labels\n",
    "plt.title('Count Plot of Online Orders by Fraud Status')\n",
    "plt.xlabel('Online Order (0 = In-Store, 1 = Online)')\n",
    "plt.ylabel('Count')\n",
    "\n",
    "# Adding a legend\n",
    "plt.legend(title='Fraud', labels=['Non-Fraudulent', 'Fraudulent'])\n",
    "\n",
    "# Display the plot\n",
    "plt.show()\n",
    "\n",
    "# Calculate the percentage distribution for each fraud status within 'online_order'\n",
    "counts = data_cleaned.groupby(['online_order', 'fraud']).size().unstack()\n",
    "percentages = counts.div(counts.sum(axis=1), axis=0) * 100\n",
    "\n",
    "# Plot the percentage stacked bar chart\n",
    "percentages.plot(kind='bar', stacked=True, color=['green', 'red'], figsize=(8, 6))\n",
    "\n",
    "# Adding title and labels\n",
    "plt.title('Percentage Chart of Online Orders by Fraud Status')\n",
    "plt.xlabel('Online Order (0 = In-Store, 1 = Online)')\n",
    "plt.ylabel('Percentage')\n",
    "\n",
    "# Adding a legend\n",
    "plt.legend(title='Fraud', labels=['Non-Fraudulent', 'Fraudulent'])\n",
    "\n",
    "# Display the plot\n",
    "plt.show()"
   ]
  },
  {
   "cell_type": "markdown",
   "id": "36d0a739-c0ff-4911-bf01-a890199daa9e",
   "metadata": {},
   "source": [
    "**Prompt:**\n",
    "the next section is about bivariate visualizations"
   ]
  },
  {
   "cell_type": "markdown",
   "id": "552bd0c6-f18d-4349-a5c0-9f2aa4d4c59f",
   "metadata": {},
   "source": [
    "# Bivariate Visualizations  "
   ]
  },
  {
   "cell_type": "markdown",
   "id": "d61c60b6-af8c-4318-9736-e85155936cd9",
   "metadata": {},
   "source": [
    "**Prompt:**\n",
    "write a couple sentences about using two variables and a colored scatterplot"
   ]
  },
  {
   "cell_type": "markdown",
   "id": "e8baf874-4453-40c8-9a55-432e74494a6a",
   "metadata": {},
   "source": [
    "In this section, we will explore the relationships between two variables using scatterplots, with fraud status represented by color. This approach allows us to visually identify patterns, clusters, or trends that differentiate fraudulent and non-fraudulent transactions based on the interaction of two features."
   ]
  },
  {
   "cell_type": "markdown",
   "id": "fe4a23d2-5158-4483-b47b-e37322753c0d",
   "metadata": {},
   "source": [
    "**Prompt:**\n",
    "create a scatterplot using Seaborn of distance_from_home vs ratio_to_median_purchase_price colored green and red for fraud with a title and axes labels"
   ]
  },
  {
   "cell_type": "code",
   "execution_count": 22,
   "id": "f67a247f-3219-461f-9a3c-6a647cb0dbec",
   "metadata": {},
   "outputs": [
    {
     "data": {
      "image/png": "[encoded data removed]",
      "text/plain": [
       "<Figure size 720x432 with 1 Axes>"
      ]
     },
     "metadata": {
      "needs_background": "light"
     },
     "output_type": "display_data"
    }
   ],
   "source": [
    "# Create a scatter plot using Seaborn\n",
    "plt.figure(figsize=(10, 6))\n",
    "sns.scatterplot(\n",
    "    x='distance_from_home', \n",
    "    y='ratio_to_median_purchase_price', \n",
    "    hue='fraud', \n",
    "    data=data_cleaned, \n",
    "    palette={0: 'green', 1: 'red'}\n",
    ")\n",
    "\n",
    "# Adding title and labels\n",
    "plt.title('Scatter Plot of Distance from Home vs. Ratio to Median Purchase Price by Fraud Status')\n",
    "plt.xlabel('Distance from Home')\n",
    "plt.ylabel('Ratio to Median Purchase Price')\n",
    "\n",
    "# Display the plot\n",
    "plt.show()"
   ]
  },
  {
   "cell_type": "markdown",
   "id": "f984a876-249a-47bd-bcc1-95d62b704177",
   "metadata": {},
   "source": [
    "**Prompt:**\n",
    "create a scatterplot using Seaborn of distance_from_home vs distance_from_last_transaction colored green and red for fraud with a title and axes labels"
   ]
  },
  {
   "cell_type": "code",
   "execution_count": 23,
   "id": "b79dd4ef-2dad-42ee-b083-646c7ab40b85",
   "metadata": {},
   "outputs": [
    {
     "data": {
      "image/png": "[encoded data removed]",
      "text/plain": [
       "<Figure size 720x432 with 1 Axes>"
      ]
     },
     "metadata": {
      "needs_background": "light"
     },
     "output_type": "display_data"
    }
   ],
   "source": [
    "# Create a scatter plot using Seaborn\n",
    "plt.figure(figsize=(10, 6))\n",
    "sns.scatterplot(\n",
    "    x='distance_from_home', \n",
    "    y='distance_from_last_transaction', \n",
    "    hue='fraud', \n",
    "    data=data_cleaned, \n",
    "    palette={0: 'green', 1: 'red'}\n",
    ")\n",
    "\n",
    "# Adding title and labels\n",
    "plt.title('Scatter Plot of Distance from Home vs. Distance from Last Transaction by Fraud Status')\n",
    "plt.xlabel('Distance from Home')\n",
    "plt.ylabel('Distance from Last Transaction')\n",
    "\n",
    "# Display the plot\n",
    "plt.show()"
   ]
  },
  {
   "cell_type": "markdown",
   "id": "b7d31ec3-bd89-4a32-b666-f3ecc58a0f42",
   "metadata": {},
   "source": [
    "**Prompt:**\n",
    "create a scatterplot using Seaborn of distance_from_last_transaction vs ratio_to_mean_purchase_price colored green and red for fraud with a title and axes labels"
   ]
  },
  {
   "cell_type": "code",
   "execution_count": 24,
   "id": "7bc969ec-77fe-4717-99ef-b35162ff6aeb",
   "metadata": {},
   "outputs": [
    {
     "data": {
      "image/png": "[encoded data removed]",
      "text/plain": [
       "<Figure size 720x432 with 1 Axes>"
      ]
     },
     "metadata": {
      "needs_background": "light"
     },
     "output_type": "display_data"
    }
   ],
   "source": [
    "# Create a scatter plot using Seaborn\n",
    "plt.figure(figsize=(10, 6))\n",
    "sns.scatterplot(\n",
    "    x='distance_from_last_transaction', \n",
    "    y='ratio_to_median_purchase_price', \n",
    "    hue='fraud', \n",
    "    data=data_cleaned, \n",
    "    palette={0: 'green', 1: 'red'}\n",
    ")\n",
    "\n",
    "# Adding title and labels\n",
    "plt.title('Scatter Plot of Distance from Last Transaction vs. Ratio to Median Purchase Price by Fraud Status')\n",
    "plt.xlabel('Distance from Last Transaction')\n",
    "plt.ylabel('Ratio to Median Purchase Price')\n",
    "\n",
    "# Display the plot\n",
    "plt.show()"
   ]
  },
  {
   "cell_type": "markdown",
   "id": "35895e28-7283-4cb5-85cd-75b517d8b8ba",
   "metadata": {},
   "source": [
    "**Prompt:**\n",
    "the next section is asking if we can predict a transaction as fraud"
   ]
  },
  {
   "cell_type": "markdown",
   "id": "011a4d8b-dc57-47f8-98b9-5fd52f8290d7",
   "metadata": {},
   "source": [
    "# Predicting Fraudulent Transactions  "
   ]
  },
  {
   "cell_type": "markdown",
   "id": "2404b475-6763-40dc-aa1a-f6297fcffd26",
   "metadata": {},
   "source": [
    "**Prompt:**\n",
    "write  a couple sentences that talk about using 20% of our data for predictions and the rest of our data for training"
   ]
  },
  {
   "cell_type": "markdown",
   "id": "f1d22aa0-d73c-4022-8b1d-ffebde82b6e8",
   "metadata": {},
   "source": [
    "In this analysis, we will split our data into two sets: 80% will be used for training the model, while the remaining 20% will be reserved for testing and making predictions. The training data will be stored as X_train for the features and y_train for the target variable."
   ]
  },
  {
   "cell_type": "markdown",
   "id": "f7a3a396-15b0-4a33-88ce-0690ac724eeb",
   "metadata": {},
   "source": [
    "**Prompt:**\n",
    "use fraud as the target variable and split the data into stratified train and test splits with a random seed"
   ]
  },
  {
   "cell_type": "code",
   "execution_count": 25,
   "id": "ef22a75a-f6be-4610-8bd3-b9f947603472",
   "metadata": {},
   "outputs": [],
   "source": [
    "# Define the features (X) and target (y)\n",
    "X = data_cleaned.drop(columns=['fraud'])\n",
    "y = data_cleaned['fraud']\n",
    "\n",
    "# Split the data into stratified train and test sets\n",
    "X_train, X_test, y_train, y_test = train_test_split(X, y, test_size=0.2, random_state=42, stratify=y)"
   ]
  },
  {
   "cell_type": "markdown",
   "id": "c11d5c70-7dea-4d71-a02a-cc174b74e87b",
   "metadata": {},
   "source": [
    "**Prompt:**\n",
    "tell me how I can print out a variable in a notebook"
   ]
  },
  {
   "cell_type": "code",
   "execution_count": 26,
   "id": "48175e1a-9556-4eb2-b2cf-e6deb0377e17",
   "metadata": {},
   "outputs": [
    {
     "data": {
      "text/html": [
       "<div>\n",
       "<style scoped>\n",
       "    .dataframe tbody tr th:only-of-type {\n",
       "        vertical-align: middle;\n",
       "    }\n",
       "\n",
       "    .dataframe tbody tr th {\n",
       "        vertical-align: top;\n",
       "    }\n",
       "\n",
       "    .dataframe thead th {\n",
       "        text-align: right;\n",
       "    }\n",
       "</style>\n",
       "<table border=\"1\" class=\"dataframe\">\n",
       "  <thead>\n",
       "    <tr style=\"text-align: right;\">\n",
       "      <th></th>\n",
       "      <th>distance_from_home</th>\n",
       "      <th>distance_from_last_transaction</th>\n",
       "      <th>ratio_to_median_purchase_price</th>\n",
       "      <th>repeat_retailer</th>\n",
       "      <th>used_chip</th>\n",
       "      <th>used_pin_number</th>\n",
       "      <th>online_order</th>\n",
       "    </tr>\n",
       "  </thead>\n",
       "  <tbody>\n",
       "    <tr>\n",
       "      <th>954</th>\n",
       "      <td>39.904167</td>\n",
       "      <td>0.367448</td>\n",
       "      <td>0.260833</td>\n",
       "      <td>1.0</td>\n",
       "      <td>1.0</td>\n",
       "      <td>0.0</td>\n",
       "      <td>1.0</td>\n",
       "    </tr>\n",
       "    <tr>\n",
       "      <th>143</th>\n",
       "      <td>2.660649</td>\n",
       "      <td>0.657162</td>\n",
       "      <td>3.837860</td>\n",
       "      <td>1.0</td>\n",
       "      <td>0.0</td>\n",
       "      <td>0.0</td>\n",
       "      <td>1.0</td>\n",
       "    </tr>\n",
       "    <tr>\n",
       "      <th>643</th>\n",
       "      <td>48.902727</td>\n",
       "      <td>0.205816</td>\n",
       "      <td>1.307000</td>\n",
       "      <td>1.0</td>\n",
       "      <td>0.0</td>\n",
       "      <td>1.0</td>\n",
       "      <td>0.0</td>\n",
       "    </tr>\n",
       "    <tr>\n",
       "      <th>15</th>\n",
       "      <td>179.665148</td>\n",
       "      <td>0.120920</td>\n",
       "      <td>0.535640</td>\n",
       "      <td>1.0</td>\n",
       "      <td>1.0</td>\n",
       "      <td>1.0</td>\n",
       "      <td>1.0</td>\n",
       "    </tr>\n",
       "    <tr>\n",
       "      <th>793</th>\n",
       "      <td>676.702348</td>\n",
       "      <td>1.209733</td>\n",
       "      <td>6.948586</td>\n",
       "      <td>1.0</td>\n",
       "      <td>0.0</td>\n",
       "      <td>0.0</td>\n",
       "      <td>1.0</td>\n",
       "    </tr>\n",
       "    <tr>\n",
       "      <th>...</th>\n",
       "      <td>...</td>\n",
       "      <td>...</td>\n",
       "      <td>...</td>\n",
       "      <td>...</td>\n",
       "      <td>...</td>\n",
       "      <td>...</td>\n",
       "      <td>...</td>\n",
       "    </tr>\n",
       "    <tr>\n",
       "      <th>685</th>\n",
       "      <td>5.916343</td>\n",
       "      <td>5.099247</td>\n",
       "      <td>0.419779</td>\n",
       "      <td>1.0</td>\n",
       "      <td>0.0</td>\n",
       "      <td>0.0</td>\n",
       "      <td>0.0</td>\n",
       "    </tr>\n",
       "    <tr>\n",
       "      <th>722</th>\n",
       "      <td>23.517527</td>\n",
       "      <td>3.513485</td>\n",
       "      <td>0.241444</td>\n",
       "      <td>1.0</td>\n",
       "      <td>0.0</td>\n",
       "      <td>0.0</td>\n",
       "      <td>0.0</td>\n",
       "    </tr>\n",
       "    <tr>\n",
       "      <th>173</th>\n",
       "      <td>3.273426</td>\n",
       "      <td>1.056948</td>\n",
       "      <td>1.694281</td>\n",
       "      <td>1.0</td>\n",
       "      <td>0.0</td>\n",
       "      <td>0.0</td>\n",
       "      <td>1.0</td>\n",
       "    </tr>\n",
       "    <tr>\n",
       "      <th>499</th>\n",
       "      <td>7.387696</td>\n",
       "      <td>1.598827</td>\n",
       "      <td>0.847218</td>\n",
       "      <td>1.0</td>\n",
       "      <td>0.0</td>\n",
       "      <td>0.0</td>\n",
       "      <td>1.0</td>\n",
       "    </tr>\n",
       "    <tr>\n",
       "      <th>593</th>\n",
       "      <td>5.630854</td>\n",
       "      <td>1.626769</td>\n",
       "      <td>1.645281</td>\n",
       "      <td>1.0</td>\n",
       "      <td>0.0</td>\n",
       "      <td>0.0</td>\n",
       "      <td>1.0</td>\n",
       "    </tr>\n",
       "  </tbody>\n",
       "</table>\n",
       "<p>781 rows × 7 columns</p>\n",
       "</div>"
      ],
      "text/plain": [
       "     distance_from_home  distance_from_last_transaction  \\\n",
       "954           39.904167                        0.367448   \n",
       "143            2.660649                        0.657162   \n",
       "643           48.902727                        0.205816   \n",
       "15           179.665148                        0.120920   \n",
       "793          676.702348                        1.209733   \n",
       "..                  ...                             ...   \n",
       "685            5.916343                        5.099247   \n",
       "722           23.517527                        3.513485   \n",
       "173            3.273426                        1.056948   \n",
       "499            7.387696                        1.598827   \n",
       "593            5.630854                        1.626769   \n",
       "\n",
       "     ratio_to_median_purchase_price  repeat_retailer  used_chip  \\\n",
       "954                        0.260833              1.0        1.0   \n",
       "143                        3.837860              1.0        0.0   \n",
       "643                        1.307000              1.0        0.0   \n",
       "15                         0.535640              1.0        1.0   \n",
       "793                        6.948586              1.0        0.0   \n",
       "..                              ...              ...        ...   \n",
       "685                        0.419779              1.0        0.0   \n",
       "722                        0.241444              1.0        0.0   \n",
       "173                        1.694281              1.0        0.0   \n",
       "499                        0.847218              1.0        0.0   \n",
       "593                        1.645281              1.0        0.0   \n",
       "\n",
       "     used_pin_number  online_order  \n",
       "954              0.0           1.0  \n",
       "143              0.0           1.0  \n",
       "643              1.0           0.0  \n",
       "15               1.0           1.0  \n",
       "793              0.0           1.0  \n",
       "..               ...           ...  \n",
       "685              0.0           0.0  \n",
       "722              0.0           0.0  \n",
       "173              0.0           1.0  \n",
       "499              0.0           1.0  \n",
       "593              0.0           1.0  \n",
       "\n",
       "[781 rows x 7 columns]"
      ]
     },
     "execution_count": 26,
     "metadata": {},
     "output_type": "execute_result"
    }
   ],
   "source": [
    "#To print out a variable in a Jupyter Notebook, you can simply write the variable's name in a cell and run it\n",
    "X_train"
   ]
  },
  {
   "cell_type": "markdown",
   "id": "f86b2a9c-f11a-42d4-8411-408f39418643",
   "metadata": {},
   "source": [
    "**Prompt:**\n",
    "I want to print y_train in my notebook"
   ]
  },
  {
   "cell_type": "code",
   "execution_count": 27,
   "id": "91a37166-7830-40f1-86b2-d1ee1b37bc22",
   "metadata": {},
   "outputs": [
    {
     "data": {
      "text/plain": [
       "954    0\n",
       "143    0\n",
       "643    0\n",
       "15     0\n",
       "793    1\n",
       "      ..\n",
       "685    0\n",
       "722    0\n",
       "173    0\n",
       "499    0\n",
       "593    0\n",
       "Name: fraud, Length: 781, dtype: int64"
      ]
     },
     "execution_count": 27,
     "metadata": {},
     "output_type": "execute_result"
    }
   ],
   "source": [
    "y_train"
   ]
  },
  {
   "cell_type": "markdown",
   "id": "d3479673-dd6f-4322-ade1-311865321343",
   "metadata": {},
   "source": [
    "**Prompt:**\n",
    "print the testing data in the notebook"
   ]
  },
  {
   "cell_type": "code",
   "execution_count": 28,
   "id": "bb255159-218a-438f-ad8b-06231f84a3d7",
   "metadata": {},
   "outputs": [
    {
     "data": {
      "text/html": [
       "<div>\n",
       "<style scoped>\n",
       "    .dataframe tbody tr th:only-of-type {\n",
       "        vertical-align: middle;\n",
       "    }\n",
       "\n",
       "    .dataframe tbody tr th {\n",
       "        vertical-align: top;\n",
       "    }\n",
       "\n",
       "    .dataframe thead th {\n",
       "        text-align: right;\n",
       "    }\n",
       "</style>\n",
       "<table border=\"1\" class=\"dataframe\">\n",
       "  <thead>\n",
       "    <tr style=\"text-align: right;\">\n",
       "      <th></th>\n",
       "      <th>distance_from_home</th>\n",
       "      <th>distance_from_last_transaction</th>\n",
       "      <th>ratio_to_median_purchase_price</th>\n",
       "      <th>repeat_retailer</th>\n",
       "      <th>used_chip</th>\n",
       "      <th>used_pin_number</th>\n",
       "      <th>online_order</th>\n",
       "    </tr>\n",
       "  </thead>\n",
       "  <tbody>\n",
       "    <tr>\n",
       "      <th>782</th>\n",
       "      <td>0.701100</td>\n",
       "      <td>0.540487</td>\n",
       "      <td>1.754568</td>\n",
       "      <td>0.0</td>\n",
       "      <td>0.0</td>\n",
       "      <td>0.0</td>\n",
       "      <td>1.0</td>\n",
       "    </tr>\n",
       "    <tr>\n",
       "      <th>51</th>\n",
       "      <td>43.281314</td>\n",
       "      <td>3.367793</td>\n",
       "      <td>0.676058</td>\n",
       "      <td>1.0</td>\n",
       "      <td>1.0</td>\n",
       "      <td>1.0</td>\n",
       "      <td>1.0</td>\n",
       "    </tr>\n",
       "    <tr>\n",
       "      <th>197</th>\n",
       "      <td>4.586564</td>\n",
       "      <td>3.365070</td>\n",
       "      <td>2.454288</td>\n",
       "      <td>1.0</td>\n",
       "      <td>0.0</td>\n",
       "      <td>0.0</td>\n",
       "      <td>0.0</td>\n",
       "    </tr>\n",
       "    <tr>\n",
       "      <th>550</th>\n",
       "      <td>4.403263</td>\n",
       "      <td>0.173726</td>\n",
       "      <td>0.641169</td>\n",
       "      <td>1.0</td>\n",
       "      <td>0.0</td>\n",
       "      <td>0.0</td>\n",
       "      <td>0.0</td>\n",
       "    </tr>\n",
       "    <tr>\n",
       "      <th>412</th>\n",
       "      <td>965.910612</td>\n",
       "      <td>0.023604</td>\n",
       "      <td>0.257908</td>\n",
       "      <td>1.0</td>\n",
       "      <td>0.0</td>\n",
       "      <td>0.0</td>\n",
       "      <td>1.0</td>\n",
       "    </tr>\n",
       "    <tr>\n",
       "      <th>...</th>\n",
       "      <td>...</td>\n",
       "      <td>...</td>\n",
       "      <td>...</td>\n",
       "      <td>...</td>\n",
       "      <td>...</td>\n",
       "      <td>...</td>\n",
       "      <td>...</td>\n",
       "    </tr>\n",
       "    <tr>\n",
       "      <th>436</th>\n",
       "      <td>6.498016</td>\n",
       "      <td>0.228995</td>\n",
       "      <td>0.171750</td>\n",
       "      <td>1.0</td>\n",
       "      <td>0.0</td>\n",
       "      <td>0.0</td>\n",
       "      <td>0.0</td>\n",
       "    </tr>\n",
       "    <tr>\n",
       "      <th>868</th>\n",
       "      <td>9.258344</td>\n",
       "      <td>0.633609</td>\n",
       "      <td>0.066744</td>\n",
       "      <td>1.0</td>\n",
       "      <td>1.0</td>\n",
       "      <td>0.0</td>\n",
       "      <td>1.0</td>\n",
       "    </tr>\n",
       "    <tr>\n",
       "      <th>65</th>\n",
       "      <td>17.797888</td>\n",
       "      <td>1.395508</td>\n",
       "      <td>2.880479</td>\n",
       "      <td>1.0</td>\n",
       "      <td>1.0</td>\n",
       "      <td>0.0</td>\n",
       "      <td>0.0</td>\n",
       "    </tr>\n",
       "    <tr>\n",
       "      <th>743</th>\n",
       "      <td>5.599947</td>\n",
       "      <td>2.477098</td>\n",
       "      <td>5.956153</td>\n",
       "      <td>1.0</td>\n",
       "      <td>0.0</td>\n",
       "      <td>0.0</td>\n",
       "      <td>0.0</td>\n",
       "    </tr>\n",
       "    <tr>\n",
       "      <th>390</th>\n",
       "      <td>12.391271</td>\n",
       "      <td>1.658017</td>\n",
       "      <td>0.380575</td>\n",
       "      <td>1.0</td>\n",
       "      <td>0.0</td>\n",
       "      <td>0.0</td>\n",
       "      <td>1.0</td>\n",
       "    </tr>\n",
       "  </tbody>\n",
       "</table>\n",
       "<p>196 rows × 7 columns</p>\n",
       "</div>"
      ],
      "text/plain": [
       "     distance_from_home  distance_from_last_transaction  \\\n",
       "782            0.701100                        0.540487   \n",
       "51            43.281314                        3.367793   \n",
       "197            4.586564                        3.365070   \n",
       "550            4.403263                        0.173726   \n",
       "412          965.910612                        0.023604   \n",
       "..                  ...                             ...   \n",
       "436            6.498016                        0.228995   \n",
       "868            9.258344                        0.633609   \n",
       "65            17.797888                        1.395508   \n",
       "743            5.599947                        2.477098   \n",
       "390           12.391271                        1.658017   \n",
       "\n",
       "     ratio_to_median_purchase_price  repeat_retailer  used_chip  \\\n",
       "782                        1.754568              0.0        0.0   \n",
       "51                         0.676058              1.0        1.0   \n",
       "197                        2.454288              1.0        0.0   \n",
       "550                        0.641169              1.0        0.0   \n",
       "412                        0.257908              1.0        0.0   \n",
       "..                              ...              ...        ...   \n",
       "436                        0.171750              1.0        0.0   \n",
       "868                        0.066744              1.0        1.0   \n",
       "65                         2.880479              1.0        1.0   \n",
       "743                        5.956153              1.0        0.0   \n",
       "390                        0.380575              1.0        0.0   \n",
       "\n",
       "     used_pin_number  online_order  \n",
       "782              0.0           1.0  \n",
       "51               1.0           1.0  \n",
       "197              0.0           0.0  \n",
       "550              0.0           0.0  \n",
       "412              0.0           1.0  \n",
       "..               ...           ...  \n",
       "436              0.0           0.0  \n",
       "868              0.0           1.0  \n",
       "65               0.0           0.0  \n",
       "743              0.0           0.0  \n",
       "390              0.0           1.0  \n",
       "\n",
       "[196 rows x 7 columns]"
      ]
     },
     "execution_count": 28,
     "metadata": {},
     "output_type": "execute_result"
    }
   ],
   "source": [
    "X_test"
   ]
  },
  {
   "cell_type": "code",
   "execution_count": 29,
   "id": "b90fbecb-a169-416f-b278-4cd6aeea6276",
   "metadata": {},
   "outputs": [
    {
     "data": {
      "text/plain": [
       "782    0\n",
       "51     0\n",
       "197    0\n",
       "550    0\n",
       "412    1\n",
       "      ..\n",
       "436    0\n",
       "868    0\n",
       "65     0\n",
       "743    0\n",
       "390    0\n",
       "Name: fraud, Length: 196, dtype: int64"
      ]
     },
     "execution_count": 29,
     "metadata": {},
     "output_type": "execute_result"
    }
   ],
   "source": [
    "y_test"
   ]
  },
  {
   "cell_type": "markdown",
   "id": "d0ad516e-1fcb-471d-8242-a1370b17a84b",
   "metadata": {},
   "source": [
    "**Prompt:**\n",
    "the next section is about a model that always predicts not fraud. give me a title and a sentence description about this section"
   ]
  },
  {
   "cell_type": "markdown",
   "id": "b5758392-1faf-4b16-bdd0-3ef3d6bd3cad",
   "metadata": {},
   "source": [
    "### Model That Always Predicts Non-Fraud  \n",
    "\n",
    "In this section, we will create a model that always predicts transactions as non-fraudulent, which will help us understand the minimum performance level."
   ]
  },
  {
   "cell_type": "markdown",
   "id": "5a3b24fc-2fc4-4790-882b-e39d71f7cd74",
   "metadata": {},
   "source": [
    "**Prompt:**\n",
    "make the model that never predicts fraud and print the first 100 rows"
   ]
  },
  {
   "cell_type": "code",
   "execution_count": 30,
   "id": "553c34d7-05a0-483b-b309-251cc7452e04",
   "metadata": {},
   "outputs": [
    {
     "name": "stdout",
     "output_type": "stream",
     "text": [
      "First 100 predictions (Always Non-Fraud):\n",
      "[0, 0, 0, 0, 0, 0, 0, 0, 0, 0, 0, 0, 0, 0, 0, 0, 0, 0, 0, 0, 0, 0, 0, 0, 0, 0, 0, 0, 0, 0, 0, 0, 0, 0, 0, 0, 0, 0, 0, 0, 0, 0, 0, 0, 0, 0, 0, 0, 0, 0, 0, 0, 0, 0, 0, 0, 0, 0, 0, 0, 0, 0, 0, 0, 0, 0, 0, 0, 0, 0, 0, 0, 0, 0, 0, 0, 0, 0, 0, 0, 0, 0, 0, 0, 0, 0, 0, 0, 0, 0, 0, 0, 0, 0, 0, 0, 0, 0, 0, 0]\n"
     ]
    }
   ],
   "source": [
    "# Create a model that always predicts non-fraud (0)\n",
    "y_pred_non_fraud = [0] * len(y_test)\n",
    "\n",
    "# Print the first 100 rows of the predictions\n",
    "print(\"First 100 predictions (Always Non-Fraud):\")\n",
    "print(y_pred_non_fraud[:100])"
   ]
  },
  {
   "cell_type": "markdown",
   "id": "54da61d4-bda4-48f6-a538-992449e033c5",
   "metadata": {},
   "source": [
    "### Basic KNN Model"
   ]
  },
  {
   "cell_type": "markdown",
   "id": "4e8b676c-5733-4938-bb3a-6b2363f01539",
   "metadata": {},
   "source": [
    "**Prompt:**\n",
    "make a knn model, predict on the test set, and print the first 100 predicitons"
   ]
  },
  {
   "cell_type": "code",
   "execution_count": 31,
   "id": "0fbabbbf-3cb0-4c58-a805-3b857d0a8e40",
   "metadata": {},
   "outputs": [
    {
     "name": "stdout",
     "output_type": "stream",
     "text": [
      "First 100 KNN predictions (with 3 neighbors):\n",
      "[0 0 0 0 1 0 0 0 0 1 0 1 0 0 0 0 0 0 0 0 0 0 0 0 0 0 0 0 0 0 1 1 0 0 1 0 0\n",
      " 0 0 0 0 0 0 0 0 0 0 0 0 0 0 0 0 0 0 0 0 0 0 0 0 0 0 0 0 0 0 0 0 1 0 0 0 0\n",
      " 0 0 1 0 0 0 0 0 0 0 0 0 0 0 0 1 0 0 0 0 0 0 0 0 0 0]\n"
     ]
    }
   ],
   "source": [
    "# Initialize the KNN classifier with 3 neighbors\n",
    "knn = KNeighborsClassifier(n_neighbors=3)\n",
    "\n",
    "# Fit the model on the training data\n",
    "knn.fit(X_train, y_train)\n",
    "\n",
    "# Predict on the test set\n",
    "knn_predictions = knn.predict(X_test)\n",
    "\n",
    "# Print the first 100 predictions\n",
    "print(\"First 100 KNN predictions (with 3 neighbors):\")\n",
    "print(knn_predictions[:100])"
   ]
  },
  {
   "cell_type": "markdown",
   "id": "f7d00655-b7c4-465e-8c12-65deeebd7cad",
   "metadata": {},
   "source": [
    "**Prompt:**\n",
    "the next section is evaluating the model. give a title and a sentence about the accuracy of the never fraud model"
   ]
  },
  {
   "cell_type": "markdown",
   "id": "3d7f9e0f-e61f-4e01-82bc-8e39341cedee",
   "metadata": {},
   "source": [
    "### Evaluating the Model\n",
    "\n",
    "In this section, we will evaluate the accuracy of the \"never fraud\" model, which always predicts non-fraudulent transactions. This model achieves an accuracy of 90%."
   ]
  },
  {
   "cell_type": "markdown",
   "id": "39e25af4-0a72-476b-a164-514dd2f31229",
   "metadata": {},
   "source": [
    "**Prompt:**\n",
    "create a confusion matrix, a Seaborn heat map, and a classification report for the never fraud model"
   ]
  },
  {
   "cell_type": "code",
   "execution_count": 32,
   "id": "91567b13-ce29-4167-bd3c-0e34b67d315e",
   "metadata": {},
   "outputs": [
    {
     "data": {
      "image/png": "[encoded data removed]",
      "text/plain": [
       "<Figure size 576x432 with 1 Axes>"
      ]
     },
     "metadata": {
      "needs_background": "light"
     },
     "output_type": "display_data"
    },
    {
     "name": "stdout",
     "output_type": "stream",
     "text": [
      "Classification Report for Never Fraud Model:\n",
      "              precision    recall  f1-score   support\n",
      "\n",
      "           0       0.92      1.00      0.96       181\n",
      "           1       0.00      0.00      0.00        15\n",
      "\n",
      "    accuracy                           0.92       196\n",
      "   macro avg       0.46      0.50      0.48       196\n",
      "weighted avg       0.85      0.92      0.89       196\n",
      "\n"
     ]
    },
    {
     "name": "stderr",
     "output_type": "stream",
     "text": [
      "/home/jupyter-kcreek/.local/lib/python3.9/site-packages/sklearn/metrics/_classification.py:1531: UndefinedMetricWarning: Precision is ill-defined and being set to 0.0 in labels with no predicted samples. Use `zero_division` parameter to control this behavior.\n",
      "  _warn_prf(average, modifier, f\"{metric.capitalize()} is\", len(result))\n",
      "/home/jupyter-kcreek/.local/lib/python3.9/site-packages/sklearn/metrics/_classification.py:1531: UndefinedMetricWarning: Precision is ill-defined and being set to 0.0 in labels with no predicted samples. Use `zero_division` parameter to control this behavior.\n",
      "  _warn_prf(average, modifier, f\"{metric.capitalize()} is\", len(result))\n",
      "/home/jupyter-kcreek/.local/lib/python3.9/site-packages/sklearn/metrics/_classification.py:1531: UndefinedMetricWarning: Precision is ill-defined and being set to 0.0 in labels with no predicted samples. Use `zero_division` parameter to control this behavior.\n",
      "  _warn_prf(average, modifier, f\"{metric.capitalize()} is\", len(result))\n"
     ]
    }
   ],
   "source": [
    "# Generate confusion matrix\n",
    "conf_matrix = confusion_matrix(y_test, y_pred_non_fraud)\n",
    "\n",
    "# Create a Seaborn heatmap for the confusion matrix\n",
    "plt.figure(figsize=(8, 6))\n",
    "sns.heatmap(conf_matrix, annot=True, fmt='d', cmap='Reds', cbar=False)\n",
    "plt.title('Confusion Matrix for Never Fraud Model')\n",
    "plt.xlabel('Predicted')\n",
    "plt.ylabel('Actual')\n",
    "plt.show()\n",
    "\n",
    "# Print classification report\n",
    "print(\"Classification Report for Never Fraud Model:\")\n",
    "print(classification_report(y_test, y_pred_non_fraud))\n"
   ]
  },
  {
   "cell_type": "markdown",
   "id": "6b50dbe3-2d23-428e-9a51-a6156b3ce990",
   "metadata": {},
   "source": [
    "**Prompt:**\n",
    "create a confusion matrix, a Seaborn heat map, and a classification report for the knn model"
   ]
  },
  {
   "cell_type": "code",
   "execution_count": 33,
   "id": "decb4eab-2bd3-4f8f-a439-667849d342ef",
   "metadata": {},
   "outputs": [
    {
     "data": {
      "image/png": "[encoded data removed]",
      "text/plain": [
       "<Figure size 576x432 with 2 Axes>"
      ]
     },
     "metadata": {
      "needs_background": "light"
     },
     "output_type": "display_data"
    },
    {
     "name": "stdout",
     "output_type": "stream",
     "text": [
      "Classification Report for KNN Model:\n",
      "              precision    recall  f1-score   support\n",
      "\n",
      "   Non-Fraud       0.96      0.97      0.97       181\n",
      "       Fraud       0.62      0.53      0.57        15\n",
      "\n",
      "    accuracy                           0.94       196\n",
      "   macro avg       0.79      0.75      0.77       196\n",
      "weighted avg       0.94      0.94      0.94       196\n",
      "\n"
     ]
    }
   ],
   "source": [
    "# Generate the confusion matrix for the KNN model\n",
    "knn_conf_matrix = confusion_matrix(y_test, knn_predictions)\n",
    "\n",
    "# Plot the confusion matrix as a heatmap\n",
    "plt.figure(figsize=(8, 6))\n",
    "sns.heatmap(knn_conf_matrix, annot=True, fmt='d', cmap='Blues')\n",
    "plt.title('Confusion Matrix for KNN Model')\n",
    "plt.xlabel('Predicted')\n",
    "plt.ylabel('Actual')\n",
    "plt.show()\n",
    "\n",
    "# Generate and print the classification report for the KNN model\n",
    "knn_class_report = classification_report(y_test, knn_predictions, target_names=['Non-Fraud', 'Fraud'])\n",
    "print(\"Classification Report for KNN Model:\")\n",
    "print(knn_class_report)"
   ]
  },
  {
   "cell_type": "markdown",
   "id": "c01f94b0-391c-4cc4-89e6-28211024a5f0",
   "metadata": {},
   "source": [
    "**Prompt:**\n",
    "the next section is comparing model performance"
   ]
  },
  {
   "cell_type": "markdown",
   "id": "83ed680b-b186-4827-8800-89b65f0241e3",
   "metadata": {},
   "source": [
    "### Comparing Model Performance"
   ]
  },
  {
   "cell_type": "markdown",
   "id": "b50ac2e6-d1ed-4700-afe9-ccb5fcacbd62",
   "metadata": {},
   "source": [
    "**Prompt:**\n",
    "calculate the metrics for the never fraud model and the knn model"
   ]
  },
  {
   "cell_type": "code",
   "execution_count": 34,
   "id": "6f0e798f-397e-4a9b-85c5-912054061902",
   "metadata": {},
   "outputs": [],
   "source": [
    "# Calculate metrics for the \"never fraud\" model\n",
    "accuracy_never_fraud = accuracy_score(y_test, y_pred_non_fraud)\n",
    "precision_never_fraud = precision_score(y_test, y_pred_non_fraud, zero_division=0)\n",
    "recall_never_fraud = recall_score(y_test, y_pred_non_fraud, zero_division=0)\n",
    "f1_never_fraud = f1_score(y_test, y_pred_non_fraud, zero_division=0)\n",
    "\n",
    "# Calculate metrics for the KNN model\n",
    "accuracy_knn = accuracy_score(y_test, knn_predictions)\n",
    "precision_knn = precision_score(y_test, knn_predictions)\n",
    "recall_knn = recall_score(y_test, knn_predictions)\n",
    "f1_knn = f1_score(y_test, knn_predictions)"
   ]
  },
  {
   "cell_type": "markdown",
   "id": "abc2ceb8-0049-4dc8-ba1b-3c7f6cf3f2a8",
   "metadata": {},
   "source": [
    "**Prompt:**\n",
    "make a bar plot that compares the metrics for the never fraud plot with the metrics for the knn plot but put the metrics into a data frame before plotting"
   ]
  },
  {
   "cell_type": "code",
   "execution_count": 35,
   "id": "69e0113d-444f-4174-aa4e-b2101b40f751",
   "metadata": {},
   "outputs": [
    {
     "data": {
      "image/png": "[encoded data removed]",
      "text/plain": [
       "<Figure size 720x432 with 1 Axes>"
      ]
     },
     "metadata": {
      "needs_background": "light"
     },
     "output_type": "display_data"
    }
   ],
   "source": [
    "# Create a DataFrame with metrics\n",
    "metrics_df = pd.DataFrame({\n",
    "    'Metric': ['Accuracy', 'Precision', 'Recall', 'F1-Score'],\n",
    "    'Never Fraud': [accuracy_never_fraud, precision_never_fraud, recall_never_fraud, f1_never_fraud],\n",
    "    'KNN': [accuracy_knn, precision_knn, recall_knn, f1_knn]\n",
    "})\n",
    "\n",
    "# Plot the metrics\n",
    "x = range(len(metrics_df['Metric']))  # Label locations\n",
    "width = 0.35  # Width of the bars\n",
    "\n",
    "plt.figure(figsize=(10, 6))\n",
    "plt.bar([pos - width/2 for pos in x], metrics_df['Never Fraud'], width, label='Never Fraud', color='red')\n",
    "plt.bar([pos + width/2 for pos in x], metrics_df['KNN'], width, label='KNN', color='blue')\n",
    "\n",
    "# Add titles and labels\n",
    "plt.title('Comparison of Model Metrics', fontsize=16)\n",
    "plt.xlabel('Metrics', fontsize=12)\n",
    "plt.ylabel('Score', fontsize=12)\n",
    "plt.xticks(x, metrics_df['Metric'], fontsize=10)\n",
    "plt.legend(fontsize=10)\n",
    "\n",
    "# Display the plot\n",
    "plt.tight_layout()\n",
    "plt.show()"
   ]
  }
 ],
 "metadata": {
  "kernelspec": {
   "display_name": "Python 3 (ipykernel)",
   "language": "python",
   "name": "python3"
  },
  "language_info": {
   "codemirror_mode": {
    "name": "ipython",
    "version": 3
   },
   "file_extension": ".py",
   "mimetype": "text/x-python",
   "name": "python",
   "nbconvert_exporter": "python",
   "pygments_lexer": "ipython3",
   "version": "3.9.7"
  }
 },
 "nbformat": 4,
 "nbformat_minor": 5
}
